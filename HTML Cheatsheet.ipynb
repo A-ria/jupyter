{
 "cells": [
  {
   "cell_type": "markdown",
   "metadata": {},
   "source": [
    "# HTML (HyperText Markup Language)"
   ]
  },
  {
   "cell_type": "markdown",
   "metadata": {},
   "source": [
    "## List Item Element\n",
    "### Ordered lists `<ol>`\n",
    "#### List item appears numbered\n",
    "### Unordered lists `<ul>`  \n",
    "#### List item appears with a bullet point"
   ]
  },
  {
   "cell_type": "code",
   "execution_count": null,
   "metadata": {},
   "outputs": [],
   "source": [
    "<ol>\n",
    "  <li>Head east on Prince St</li>\n",
    "  <li>Turn left on Elizabeth</li>\n",
    "</ol>\n",
    "\n",
    "<ul>\n",
    "  <li>Cookies</li>\n",
    "  <li>Milk</li>\n",
    "</ul>"
   ]
  },
  {
   "cell_type": "markdown",
   "metadata": {},
   "source": [
    "## Video Element `<video>`\n",
    "### src attribute contains URL\n",
    "### controls attribute display video controls\n",
    "#### Content inside opening and closing tag is a fallback incase browsers don't support video element."
   ]
  },
  {
   "cell_type": "code",
   "execution_count": null,
   "metadata": {},
   "outputs": [],
   "source": [
    "<video src=\"test-video.mp4\" controls>\n",
    "  Video not supported\n",
    "</video>"
   ]
  },
  {
   "cell_type": "markdown",
   "metadata": {},
   "source": [
    "## Image Element `<img>`\n",
    "### src attribute contains URL\n",
    "#### Self-closing element, should not have a closing tag.\n",
    "#### alt attribute text will be displayed if image fails to render."
   ]
  },
  {
   "cell_type": "code",
   "execution_count": null,
   "metadata": {},
   "outputs": [],
   "source": [
    "<img src=\"image.png\" alt=\"text describing image\" />"
   ]
  },
  {
   "cell_type": "markdown",
   "metadata": {},
   "source": [
    "## Emphasis Element `<em>`\n",
    "### Italicize"
   ]
  },
  {
   "cell_type": "code",
   "execution_count": null,
   "metadata": {},
   "outputs": [],
   "source": [
    "<p>This <em>word</em> will be emphasized in italics.</p>"
   ]
  },
  {
   "cell_type": "markdown",
   "metadata": {},
   "source": [
    "## Strong Element `<strong>`\n",
    "### Bold"
   ]
  },
  {
   "cell_type": "code",
   "execution_count": null,
   "metadata": {},
   "outputs": [],
   "source": [
    "<p>This is <strong>important</strong> text!</p>"
   ]
  },
  {
   "cell_type": "markdown",
   "metadata": {},
   "source": [
    "## Div Element `<div>`\n",
    "### Used as a container that divides HTML document into sections."
   ]
  },
  {
   "cell_type": "code",
   "execution_count": null,
   "metadata": {},
   "outputs": [],
   "source": [
    "<div>\n",
    "  <h1>A section of grouped elements</h1>\n",
    "  <p>Here’s some text for the section</p>\n",
    "</div>\n",
    "<div>\n",
    "  <h1>Second section of grouped elements</h1>\n",
    "  <p>Here’s some text</p>\n",
    "</div>"
   ]
  },
  {
   "cell_type": "markdown",
   "metadata": {},
   "source": [
    "## Line Break Element `<br>`\n",
    "### Must not have a closing tag"
   ]
  },
  {
   "cell_type": "code",
   "execution_count": null,
   "metadata": {},
   "outputs": [],
   "source": [
    "A line break haiku.<br>\n",
    "Poems are a great use case.<br>\n",
    "Oh joy! A line break."
   ]
  },
  {
   "cell_type": "markdown",
   "metadata": {},
   "source": [
    "## `<h1>` - `<h6>` Heading Elements\n",
    "### Highest (biggest) to lowest (smallest)"
   ]
  },
  {
   "cell_type": "markdown",
   "metadata": {},
   "source": [
    "## Head Element `<head>`\n",
    "### General information about an HTML page that isn't displayed on the page itself (metadata).\n",
    "#### Title of the HTML document, links to stylesheets and fonts.\n",
    "\n",
    "### Title Element `<title>`\n",
    "#### Displayed in the browser's title bar or tab.\n",
    "#### Can only be inside the `<head>` element."
   ]
  },
  {
   "cell_type": "code",
   "execution_count": null,
   "metadata": {},
   "outputs": [],
   "source": [
    "<html>\n",
    "  <head>\n",
    "    <title>Title of the HTML page</title>\n",
    "  </head>\n",
    "</html>"
   ]
  },
  {
   "cell_type": "markdown",
   "metadata": {},
   "source": [
    "## Body Element `<body>`\n",
    "### Content inside `<body>` tags are rendered on the web browsers.\n",
    "#### There can only be one `<body>` element in a document."
   ]
  },
  {
   "cell_type": "markdown",
   "metadata": {},
   "source": [
    "## Span Element `<span>`\n",
    "### Inline container, can be used to group text for styling purposes."
   ]
  },
  {
   "cell_type": "code",
   "execution_count": null,
   "metadata": {},
   "outputs": [],
   "source": [
    "<p><span>This text</span> may be styled differently than the surrounding text.</p>"
   ]
  },
  {
   "cell_type": "markdown",
   "metadata": {},
   "source": [
    "## Anchor Element `<a>`\n",
    "### Used to create hyperlinks (to webpages, files on same server, location on same page, etc).\n",
    "### Hyperlink reference attribute, href"
   ]
  },
  {
   "cell_type": "code",
   "execution_count": null,
   "metadata": {},
   "outputs": [],
   "source": [
    "<!-- Linking a text -->\n",
    "<a href=\"codecademy.com\">Visit this site</a>\n",
    "\n",
    "<!-- Linking an image -->\n",
    "<a href=\"codecademy.com\">\n",
    "<img src=\"logo.jpg\">Click this image</a>"
   ]
  },
  {
   "cell_type": "markdown",
   "metadata": {},
   "source": [
    "## Target Attribute `<target>`\n",
    "### Used with anchor elements, specifies where a hyperlink should be opened."
   ]
  },
  {
   "cell_type": "code",
   "execution_count": null,
   "metadata": {},
   "outputs": [],
   "source": [
    "<a href=\"https://www.google.com\" target=\"_blank\">This anchor element links to google and will open in a new tab or window.</a>"
   ]
  },
  {
   "cell_type": "markdown",
   "metadata": {},
   "source": [
    "## Link to a Different Part of the Page `#`\n",
    "### Use `#` followed by the `id` of the element to link to."
   ]
  },
  {
   "cell_type": "code",
   "execution_count": null,
   "metadata": {},
   "outputs": [],
   "source": [
    "<div>\n",
    "  <p id=\"id-of-element-to-link-to\">A different part of the page!</p>\n",
    "</div>\n",
    "\n",
    "<a href=\"#id-of-element-to-link-to\">Take me to a different part of the page</a>"
   ]
  },
  {
   "cell_type": "markdown",
   "metadata": {},
   "source": [
    "## Comments\n",
    "### Use opening `<!--` and closing `-->` tags."
   ]
  },
  {
   "cell_type": "code",
   "execution_count": null,
   "metadata": {},
   "outputs": [],
   "source": [
    "<!-- Main site content -->\n",
    "<div>Content</div>\n",
    "\n",
    "<!--\n",
    "  Comments can be \n",
    "  multiple lines long.\n",
    "-->"
   ]
  },
  {
   "cell_type": "markdown",
   "metadata": {},
   "source": [
    "## Document Type Declaration"
   ]
  },
  {
   "cell_type": "code",
   "execution_count": null,
   "metadata": {},
   "outputs": [],
   "source": [
    "<!DOCTYPE html>"
   ]
  },
  {
   "cell_type": "markdown",
   "metadata": {},
   "source": [
    "# Tables"
   ]
  },
  {
   "cell_type": "markdown",
   "metadata": {},
   "source": [
    "## Row Element `<tr>`\n",
    "## Data Element `<td>`\n",
    "## Head Element `<thead>`\n",
    "### Heading Element `<th>`\n",
    "#### Used to add titles to rows and columns.\n",
    "#### Must be enclosed in a `<tr>` element.\n",
    "## Body Element `<tbody>`\n",
    "### Contain all table data other than `<thead>` and `<tfoot>` content. \n",
    "## Footer Element `<tfoot>`\n",
    "### Used to summarize content at the end of a table."
   ]
  },
  {
   "cell_type": "code",
   "execution_count": null,
   "metadata": {},
   "outputs": [],
   "source": [
    "<table>\n",
    " <thead>\n",
    "   <tr>\n",
    "     <th>heading 1</th>\n",
    "     <th>heading 2</th>\n",
    "   </tr>\n",
    " </thead>\n",
    " <tbody>\n",
    "   <tr>\n",
    "     <td>col 1</td>\n",
    "     <td>col 2</td>\n",
    "   </tr>\n",
    " </tbody>\n",
    " <tfoot>\n",
    "   <tr>\n",
    "     <td>summary of col 1</td>\n",
    "     <td>summary of col 2</td>\n",
    "   </tr>\n",
    " </tfoot>\n",
    "</table>"
   ]
  },
  {
   "cell_type": "markdown",
   "metadata": {},
   "source": [
    "## `rowspan` Attribute\n",
    "### Indicates how many rows a cell should span.\n",
    "## `colspan` Attribute\n",
    "### Indicates how many columns a cell should span."
   ]
  },
  {
   "cell_type": "code",
   "execution_count": null,
   "metadata": {},
   "outputs": [],
   "source": [
    "<th rowspan=\"2\">row 2 (this row will span 2 rows):</th>\n",
    "\n",
    "<td colspan=\"2\">col 1 (will span 2 columns)</td>"
   ]
  },
  {
   "cell_type": "markdown",
   "metadata": {},
   "source": [
    "# Forms"
   ]
  },
  {
   "cell_type": "code",
   "execution_count": null,
   "metadata": {},
   "outputs": [],
   "source": []
  },
  {
   "cell_type": "markdown",
   "metadata": {},
   "source": []
  },
  {
   "cell_type": "code",
   "execution_count": null,
   "metadata": {},
   "outputs": [],
   "source": []
  },
  {
   "cell_type": "markdown",
   "metadata": {},
   "source": []
  },
  {
   "cell_type": "code",
   "execution_count": null,
   "metadata": {},
   "outputs": [],
   "source": []
  },
  {
   "cell_type": "markdown",
   "metadata": {},
   "source": []
  },
  {
   "cell_type": "code",
   "execution_count": null,
   "metadata": {},
   "outputs": [],
   "source": []
  },
  {
   "cell_type": "markdown",
   "metadata": {},
   "source": []
  },
  {
   "cell_type": "code",
   "execution_count": null,
   "metadata": {},
   "outputs": [],
   "source": []
  }
 ],
 "metadata": {
  "kernelspec": {
   "display_name": "Javascript (Node.js)",
   "language": "javascript",
   "name": "javascript"
  },
  "language_info": {
   "file_extension": ".js",
   "mimetype": "application/javascript",
   "name": "javascript",
   "version": "12.17.0"
  }
 },
 "nbformat": 4,
 "nbformat_minor": 4
}
