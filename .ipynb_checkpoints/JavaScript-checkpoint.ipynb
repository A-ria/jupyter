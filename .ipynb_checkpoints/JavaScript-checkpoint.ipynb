{
 "cells": [
  {
   "cell_type": "markdown",
   "metadata": {},
   "source": [
    "# Basics\n",
    "\n",
    "## Library\n",
    "Contains methods that can be called by appending the library name with a period `.`, the method name, and a set of parentheses."
   ]
  },
  {
   "cell_type": "code",
   "execution_count": null,
   "metadata": {},
   "outputs": [],
   "source": [
    "Math.random();\n",
    "// ☝️ Math is the library"
   ]
  },
  {
   "cell_type": "markdown",
   "metadata": {},
   "source": [
    "## Assignment Operators\n",
    "`+=`   `-=`   `*=`   `/=`\n",
    "\n",
    "## String Concatenation\n",
    "Multiple strings can be concatenated together using the `+` operator.\n",
    "\n",
    "## String Interpolation\n",
    "String literals containing one or more placeholders.\n",
    "Uses backticks."
   ]
  },
  {
   "cell_type": "code",
   "execution_count": null,
   "metadata": {},
   "outputs": [],
   "source": [
    "let age = 7;\n",
    "\n",
    "// String concatenation\n",
    "'Tommy is ' + age + ' years old.';\n",
    "\n",
    "// String interpolation\n",
    "`Tommy is ${age} years old.`;"
   ]
  },
  {
   "cell_type": "markdown",
   "metadata": {},
   "source": [
    "## Control Flow\n",
    "Control structures such as conditionals alter control flow by only executing blocks of code if certain conditions are met.\n",
    "\n",
    "## `switch` Statement\n",
    "The `case` clause should finish with a `break` keyword, otherwise the `switch` statement will continue to check against `case` values until a break is encountered or the flow is broken. If no case matches but a `default` clause is included, the code inside `default` will be executed."
   ]
  },
  {
   "cell_type": "code",
   "execution_count": null,
   "metadata": {},
   "outputs": [],
   "source": [
    "const food = 'salad';\n",
    "\n",
    "switch (food) {\n",
    "  case 'oyster':\n",
    "    console.log('The taste of the sea 🦪');\n",
    "    break;\n",
    "  case 'pizza':\n",
    "    console.log('A delicious pie 🍕');\n",
    "    break;\n",
    "  default:\n",
    "    console.log('Enjoy your meal');\n",
    "}\n",
    "\n",
    "// Prints: Enjoy your meal"
   ]
  },
  {
   "cell_type": "markdown",
   "metadata": {},
   "source": [
    "## Ternary Operator\n",
    "Allows for a compact syntax in the case of binary decisions."
   ]
  },
  {
   "cell_type": "code",
   "execution_count": null,
   "metadata": {},
   "outputs": [],
   "source": [
    "let price = 10.5;\n",
    "let day = \"Monday\";\n",
    "\n",
    "day === \"Monday\" ? price -= 1.5 : price += 1.5;"
   ]
  },
  {
   "cell_type": "markdown",
   "metadata": {},
   "source": [
    "## Function Declaration\n",
    "Used to create named functions."
   ]
  },
  {
   "cell_type": "code",
   "execution_count": null,
   "metadata": {},
   "outputs": [],
   "source": [
    "function add(num1, num2) {\n",
    "  return num1 + num2;\n",
    "}"
   ]
  },
  {
   "cell_type": "markdown",
   "metadata": {},
   "source": [
    "## Anonymous Functions\n",
    "Can be defined using the `function` keyword, or as an arrow function. "
   ]
  },
  {
   "cell_type": "code",
   "execution_count": null,
   "metadata": {},
   "outputs": [],
   "source": [
    "// Anonymous function\n",
    "const rocketToMars = function() {\n",
    "  return 'BOOM!';\n",
    "}\n",
    "\n",
    "// Or\n",
    "const rocketToMars = () => {\n",
    "  return 'BOOM!';\n",
    "}"
   ]
  },
  {
   "cell_type": "markdown",
   "metadata": {},
   "source": [
    "## Arrow Functions\n",
    "- Arrow functions with a single parameter do not require `()` around the parameter list.\n",
    "- Arrow functions with a single expression can use the concise function body which returns the result of the expression without the `return` keyword."
   ]
  },
  {
   "cell_type": "code",
   "execution_count": null,
   "metadata": {},
   "outputs": [],
   "source": [
    "// Arrow function with two arguments \n",
    "const sum = (firstParam, secondParam) => { \n",
    "  return firstParam + secondParam; \n",
    "}; \n",
    "console.log(sum(2,5)); // Prints: 7 \n",
    "\n",
    "// Arrow function with no arguments \n",
    "const printHello = () => { \n",
    "  console.log('hello'); \n",
    "}; \n",
    "printHello(); // Prints: hello\n",
    "\n",
    "// Arrow functions with a single argument \n",
    "const checkWeight = weight => { \n",
    "  console.log(`Baggage weight : ${weight} kilograms.`); \n",
    "}; \n",
    "checkWeight(25); // Prints: Baggage weight : 25 kilograms.\n",
    "\n",
    "\n",
    "// Concise arrow functions\n",
    "const multiply = (a, b) => a * b; \n",
    "console.log(multiply(2, 30)); // Prints: 60 "
   ]
  },
  {
   "cell_type": "markdown",
   "metadata": {},
   "source": [
    "## Callback Functions\n",
    "A callback function is a function that is passed into another function as an argument."
   ]
  },
  {
   "cell_type": "markdown",
   "metadata": {},
   "source": [
    "## Scope\n",
    "- *Global* scope (can be used anywhere in the entire program)\n",
    "    - It is best practice to keep global variables to a minimum.\n",
    "- *File* or *module* scope (can only be accessed from within the file)\n",
    "- *Function* scope (only visible within the function)\n",
    "- *Code block* scope (only visible within a `{ ... }` codeblock)"
   ]
  },
  {
   "cell_type": "markdown",
   "metadata": {},
   "source": [
    "## Array Methods\n",
    "\n",
    "### `.push()`\n",
    "- Used to add element(s) to the end of an array.\n",
    "- Mutates the original array."
   ]
  },
  {
   "cell_type": "code",
   "execution_count": null,
   "metadata": {},
   "outputs": [],
   "source": [
    "// Adding a single element:\n",
    "const cart = ['apple', 'orange'];\n",
    "cart.push('pear'); \n",
    "\n",
    "// Adding multiple elements:\n",
    "const numbers = [1, 2];\n",
    "numbers.push(3, 4, 5);"
   ]
  },
  {
   "cell_type": "markdown",
   "metadata": {},
   "source": [
    "### `.pop()`\n",
    "- Used to remove the last element from an array and return that element.\n",
    "- Mutates the original array."
   ]
  },
  {
   "cell_type": "code",
   "execution_count": null,
   "metadata": {},
   "outputs": [],
   "source": [
    "const ingredients = ['eggs', 'flour', 'chocolate'];\n",
    "\n",
    "const poppedIngredient = ingredients.pop(); // 'chocolate'\n",
    "console.log(ingredients); // ['eggs', 'flour']"
   ]
  },
  {
   "cell_type": "markdown",
   "metadata": {},
   "source": [
    "### `.reduce()`\n",
    "- Takes a callback function with two parameters `(accumulator, currentValue)` as arguments.\n",
    "    - `accumulator` is the value returned by the last iteration; `currentValue` is the current element.\n",
    "- Iterates through an array and returns a single value. (Will sum all the elements of the array.)\n",
    "- Does not mutate the original array."
   ]
  },
  {
   "cell_type": "code",
   "execution_count": null,
   "metadata": {},
   "outputs": [],
   "source": [
    "const arrayOfNumbers = [1, 2, 3, 4];\n",
    "\n",
    "const sum = arrayOfNumbers.reduce((accumulator, currentValue) => {  \n",
    "  return accumulator + currentValue;\n",
    "});\n",
    "\n",
    "console.log(sum); // 10"
   ]
  },
  {
   "cell_type": "markdown",
   "metadata": {},
   "source": [
    "### `.filter()`\n",
    "- Executes a callback function on each element in an array. \n",
    "- The returned array is a new array with any elements for which the callback function returns `true`.\n",
    "- Does not mutate the original array."
   ]
  },
  {
   "cell_type": "code",
   "execution_count": null,
   "metadata": {},
   "outputs": [],
   "source": [
    "const randomNumbers = [4, 11, 42, 14, 39];\n",
    "const filteredArray = randomNumbers.filter(n => {  \n",
    "  return n > 5;\n",
    "});"
   ]
  },
  {
   "cell_type": "markdown",
   "metadata": {},
   "source": [
    "### `.map()`\n",
    "- Executes a callback function on each element in an array.\n",
    "- Returns a new array made up of the return values from the callback function.\n",
    "- Does not mutate the original array."
   ]
  },
  {
   "cell_type": "code",
   "execution_count": null,
   "metadata": {},
   "outputs": [],
   "source": [
    "const finalParticipants = ['Taylor', 'Donald', 'Don', 'Natasha', 'Bobby'];\n",
    "\n",
    "const announcements = finalParticipants.map(member => {\n",
    "  return member + ' joined the contest.';\n",
    "})\n",
    "\n",
    "console.log(announcements);"
   ]
  },
  {
   "cell_type": "markdown",
   "metadata": {},
   "source": [
    "### `.forEach()`\n",
    "- Executes a callback function on each element in an array.\n",
    "- Does not mutate the origianl array. "
   ]
  },
  {
   "cell_type": "code",
   "execution_count": null,
   "metadata": {},
   "outputs": [],
   "source": [
    "const numbers = [28, 77, 45, 99, 27];\n",
    "\n",
    "numbers.forEach(number => {  \n",
    "  console.log(number);\n",
    "}); "
   ]
  },
  {
   "cell_type": "markdown",
   "metadata": {},
   "source": [
    "## Loops\n",
    "\n",
    "### `for` Loop\n",
    "Three important pieces of information separated by semicolons `;`:\n",
    "- The *initialization* defines where to begin the loop by declaring the iterator variable\n",
    "- The *stopping condition* determines when to stop looping\n",
    "- The *iteration statement* updates the iterator each time the loop is completed"
   ]
  },
  {
   "cell_type": "code",
   "execution_count": null,
   "metadata": {},
   "outputs": [],
   "source": [
    "for (let i = 0; i < 4; i += 1) {\n",
    "  console.log(i);\n",
    "};\n",
    "\n",
    "// Output: 0, 1, 2, 3"
   ]
  },
  {
   "cell_type": "markdown",
   "metadata": {},
   "source": [
    "### `break` Keyword\n",
    "Used to exit the loop immediately, continuing execution after the loop body."
   ]
  },
  {
   "cell_type": "code",
   "execution_count": null,
   "metadata": {},
   "outputs": [],
   "source": [
    "for (let i = 0; i < 99; i += 1) {\n",
    "  if (i > 5) {\n",
    "     break;\n",
    "  }\n",
    "  console.log(i)\n",
    "}\n",
    "\n",
    "// Output: 0 1 2 3 4 5"
   ]
  },
  {
   "cell_type": "markdown",
   "metadata": {},
   "source": [
    "### `while` Loop\n",
    "Executed as long as a specified condition evaluates to `true`."
   ]
  },
  {
   "cell_type": "code",
   "execution_count": null,
   "metadata": {},
   "outputs": [],
   "source": [
    "let i = 0;\n",
    "\n",
    "while (i < 5) {        \n",
    "  console.log(i);\n",
    "  i++;\n",
    "}"
   ]
  },
  {
   "cell_type": "markdown",
   "metadata": {},
   "source": [
    "### `do...while` Statement\n",
    "Executes a block of code at least once to check the condition, and then repeats the loop as long as the condition is `true`."
   ]
  },
  {
   "cell_type": "code",
   "execution_count": null,
   "metadata": {},
   "outputs": [],
   "source": [
    "x = 0\n",
    "i = 0\n",
    "\n",
    "do {\n",
    "  x = x + i;\n",
    "  console.log(x)\n",
    "  i++;\n",
    "} while (i < 5);\n",
    "\n",
    "// Prints: 0 1 3 6 10"
   ]
  },
  {
   "cell_type": "markdown",
   "metadata": {},
   "source": [
    "## Objects\n",
    "- An object is a built-in data type for storing key-value pairs.\n",
    "- Data inside objects are unordered, and the values can be of any type.\n",
    "- Key-value pairs of an object are also referred to as *properties*.\n",
    "\n",
    "### Delete Operator\n",
    "Can remove properties from the object using the `delete` operator. Deletes both the value of the property and the property itself from the object."
   ]
  },
  {
   "cell_type": "code",
   "execution_count": null,
   "metadata": {},
   "outputs": [],
   "source": [
    "const person = {\n",
    "  firstName: \"Matilda\",\n",
    "  age: 27,\n",
    "  hobby: \"knitting\",\n",
    "  goal: \"learning JavaScript\"\n",
    "};\n",
    "\n",
    "delete person.hobby; // or delete person[hobby];\n",
    "\n",
    "console.log(person);"
   ]
  },
  {
   "cell_type": "markdown",
   "metadata": {},
   "source": [
    "### `for...in` Loop\n",
    "Can be used to iterate over the keys of an object."
   ]
  },
  {
   "cell_type": "code",
   "execution_count": null,
   "metadata": {},
   "outputs": [],
   "source": [
    "let mobile = {\n",
    "  brand: 'Samsung',\n",
    "  model: 'Galaxy Note 9'\n",
    "};\n",
    "\n",
    "for (let key in mobile) {\n",
    "  console.log(`${key}: ${mobile[key]}`);\n",
    "}"
   ]
  },
  {
   "cell_type": "markdown",
   "metadata": {},
   "source": [
    "### `this` Keyword\n",
    "The reserved keyword `this` refers to a method’s calling object, and it can be used to access properties belonging to that object."
   ]
  },
  {
   "cell_type": "code",
   "execution_count": null,
   "metadata": {},
   "outputs": [],
   "source": [
    "const cat = {\n",
    "  name: 'Pipey',\n",
    "  age: 8,\n",
    "  whatName() {\n",
    "    return this.name  \n",
    "  }\n",
    "};\n",
    "\n",
    "console.log(cat.whatName()); \n",
    "// Output: Pipey"
   ]
  },
  {
   "cell_type": "markdown",
   "metadata": {},
   "source": [
    "### JavaScript Function `this`\n",
    "Every JavaScript function or method has a `this` context.\n",
    "- For a function defined inside of an object, `this` will refer to that object itself.\n",
    "- For a function defined outside of an object, `this` will refer to the global object (window in a browser, global in Node.js)."
   ]
  },
  {
   "cell_type": "code",
   "execution_count": null,
   "metadata": {},
   "outputs": [],
   "source": [
    "const restaurant = {\n",
    "  numCustomers: 45,\n",
    "  seatCapacity: 100,\n",
    "  availableSeats() {\n",
    "    // this refers to the restaurant object\n",
    "    // and it's used to access its properties\n",
    "    return this.seatCapacity - this.numCustomers;\n",
    "  }\n",
    "}"
   ]
  },
  {
   "cell_type": "markdown",
   "metadata": {},
   "source": [
    "### JavaScript Arrow Function `this` Scope\n",
    "JavaScript arrow functions do not have their own `this` context, but use the `this` of the surrounding lexical context. Thus, they are generally a poor choice for writing object methods."
   ]
  },
  {
   "cell_type": "code",
   "execution_count": null,
   "metadata": {},
   "outputs": [],
   "source": [
    "const myObj = {\n",
    "    data: 'abc',\n",
    "    loggerA: () => { console.log(this.data); },\n",
    "    loggerB() { console.log(this.data); },\n",
    "};\n",
    "\n",
    "myObj.loggerA();    // undefined\n",
    "myObj.loggerB();    // 'abc'"
   ]
  },
  {
   "cell_type": "markdown",
   "metadata": {},
   "source": [
    "### Getters and Setters\n",
    "- JavaScript object properties are not private or protected. Since JavaScript objects are passed by reference, there is no way to fully prevent incorrect interactions with object properties.\n",
    "- One way to implement more restricted interactions with object properties is to use getter and setter methods."
   ]
  },
  {
   "cell_type": "code",
   "execution_count": null,
   "metadata": {},
   "outputs": [],
   "source": [
    "const myCat = {\n",
    "  _name: 'Dottie',\n",
    "  get name() {\n",
    "    return this._name;  \n",
    "  },\n",
    "  set name(newName) {\n",
    "    this._name = newName;  \n",
    "  }\n",
    "};\n",
    "\n",
    "// Reference invokes the getter\n",
    "console.log(myCat.name);\n",
    "\n",
    "// Assignment invokes the setter\n",
    "myCat.name = 'Yankee';"
   ]
  },
  {
   "cell_type": "markdown",
   "metadata": {},
   "source": [
    "### Factory Functions\n",
    "Factory functions often accept parameters in order to customize the returned object."
   ]
  },
  {
   "cell_type": "code",
   "execution_count": null,
   "metadata": {},
   "outputs": [],
   "source": [
    "// A factory function that accepts 'name', \n",
    "// 'age', and 'breed' parameters to return \n",
    "// a customized dog object. \n",
    "const dogFactory = (name, age, breed) => {\n",
    "  return {\n",
    "    name: name,\n",
    "    age: age,\n",
    "    breed: breed,\n",
    "    bark() {\n",
    "      console.log('Woof!');  \n",
    "    }\n",
    "  };\n",
    "};"
   ]
  },
  {
   "cell_type": "markdown",
   "metadata": {},
   "source": [
    "### Destructuring Assignment Shorthand Syntax\n",
    "- Allows object properties to be extracted into specific variable values.\n",
    "- It uses a pair of curly braces (`{}`) with property names on the left-hand side of an assignment to extract values from objects."
   ]
  },
  {
   "cell_type": "code",
   "execution_count": null,
   "metadata": {},
   "outputs": [],
   "source": [
    "const rubiksCubeFacts = {\n",
    "  possiblePermutations: '43,252,003,274,489,856,000',\n",
    "  invented: '1974',\n",
    "  largestCube: '17x17x17'\n",
    "};\n",
    "const {possiblePermutations, invented, largestCube} = rubiksCubeFacts;\n",
    "console.log(possiblePermutations); // '43,252,003,274,489,856,000'\n",
    "console.log(invented); // '1974'\n",
    "console.log(largestCube); // '17x17x17'"
   ]
  },
  {
   "cell_type": "markdown",
   "metadata": {},
   "source": []
  },
  {
   "cell_type": "code",
   "execution_count": null,
   "metadata": {},
   "outputs": [],
   "source": []
  }
 ],
 "metadata": {
  "kernelspec": {
   "display_name": "Javascript (Node.js)",
   "language": "javascript",
   "name": "javascript"
  },
  "language_info": {
   "file_extension": ".js",
   "mimetype": "application/javascript",
   "name": "javascript",
   "version": "12.17.0"
  }
 },
 "nbformat": 4,
 "nbformat_minor": 4
}
